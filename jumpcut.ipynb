{
 "cells": [
  {
   "cell_type": "code",
   "execution_count": 1,
   "metadata": {},
   "outputs": [],
   "source": [
    "import cv2\n",
    "import numpy as np"
   ]
  },
  {
   "cell_type": "code",
   "execution_count": 2,
   "metadata": {},
   "outputs": [],
   "source": [
    "video_frames = cv2.VideoCapture('snacks.mp4')"
   ]
  },
  {
   "cell_type": "code",
   "execution_count": 3,
   "metadata": {},
   "outputs": [],
   "source": [
    "#frames = cv2.cvtColor(video_frames.read()[1], cv2.COLOR_BGR2GRAY)"
   ]
  },
  {
   "cell_type": "code",
   "execution_count": 4,
   "metadata": {},
   "outputs": [],
   "source": [
    "cut_lens = []\n",
    "globalFrames = []\n",
    "blackFrames = []\n",
    "while True:\n",
    "    status, frame = video_frames.read()\n",
    "    if status == False:\n",
    "        break\n",
    "    bframe = cv2.cvtColor(frame, cv2.COLOR_BGR2GRAY)\n",
    "    globalFrames.append(frame)\n",
    "    blackFrames.append(bframe)"
   ]
  },
  {
   "cell_type": "code",
   "execution_count": 5,
   "metadata": {},
   "outputs": [],
   "source": [
    "jump_cuts = []\n",
    "n = globalFrames[0].shape[0] * globalFrames[0].shape[1]\n",
    "for i in range(1, len(blackFrames)):\n",
    "    temp = np.sum(abs(blackFrames[i] - blackFrames[i - 1])) / n\n",
    "    if temp > 120:\n",
    "        jump_cuts.append(1)\n",
    "    else:\n",
    "        jump_cuts.append(0)"
   ]
  },
  {
   "cell_type": "code",
   "execution_count": null,
   "metadata": {},
   "outputs": [],
   "source": []
  },
  {
   "cell_type": "code",
   "execution_count": 6,
   "metadata": {},
   "outputs": [],
   "source": [
    "for i in range(len(globalFrames)):\n",
    "    if i != len(globalFrames) - 1 and i > 0 and jump_cuts[i - 1] == 1:\n",
    "        cv2.imshow(\"yo\", cv2.cvtColor(globalFrames[i], cv2.COLOR_BGR2GRAY))\n",
    "        cv2.waitKey(500)\n",
    "    else:\n",
    "        cv2.imshow(\"yo\", globalFrames[i])\n",
    "        cv2.waitKey(500)"
   ]
  },
  {
   "cell_type": "code",
   "execution_count": null,
   "metadata": {},
   "outputs": [],
   "source": []
  },
  {
   "cell_type": "code",
   "execution_count": null,
   "metadata": {},
   "outputs": [],
   "source": []
  }
 ],
 "metadata": {
  "kernelspec": {
   "display_name": "Python 3",
   "language": "python",
   "name": "python3"
  },
  "language_info": {
   "codemirror_mode": {
    "name": "ipython",
    "version": 3
   },
   "file_extension": ".py",
   "mimetype": "text/x-python",
   "name": "python",
   "nbconvert_exporter": "python",
   "pygments_lexer": "ipython3",
   "version": "3.6.6+"
  }
 },
 "nbformat": 4,
 "nbformat_minor": 2
}
