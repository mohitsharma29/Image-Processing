{
 "cells": [
  {
   "cell_type": "code",
   "execution_count": 8,
   "metadata": {},
   "outputs": [],
   "source": [
    "import cv2\n",
    "import numpy as np\n",
    "import matplotlib.pyplot as plt"
   ]
  },
  {
   "cell_type": "code",
   "execution_count": 9,
   "metadata": {},
   "outputs": [],
   "source": [
    "image = cv2.imread('Test_Images/House.tiff',0)\n",
    "globThres = np.zeros(image.shape)\n",
    "globT = np.zeros(image.shape)"
   ]
  },
  {
   "cell_type": "code",
   "execution_count": 10,
   "metadata": {},
   "outputs": [],
   "source": [
    "meanI = int(np.sum(image)/(image.shape[0] * image.shape[1]))"
   ]
  },
  {
   "cell_type": "code",
   "execution_count": 11,
   "metadata": {},
   "outputs": [],
   "source": [
    "for i in range(image.shape[0]):\n",
    "    for j in range(image.shape[1]):\n",
    "        if image[i][j] <= meanI:\n",
    "            globThres[i][j] = 0\n",
    "        else:\n",
    "            globThres[i][j] = 255"
   ]
  },
  {
   "cell_type": "code",
   "execution_count": 12,
   "metadata": {},
   "outputs": [
    {
     "data": {
      "text/plain": [
       "<matplotlib.image.AxesImage at 0x7f57793e1470>"
      ]
     },
     "execution_count": 12,
     "metadata": {},
     "output_type": "execute_result"
    },
    {
     "data": {
      "image/png": "[encoded data removed]",
      "text/plain": [
       "<Figure size 432x288 with 1 Axes>"
      ]
     },
     "metadata": {},
     "output_type": "display_data"
    }
   ],
   "source": [
    "plt.imshow(globThres)"
   ]
  },
  {
   "cell_type": "code",
   "execution_count": 13,
   "metadata": {},
   "outputs": [],
   "source": [
    "for i in range(image.shape[0]):\n",
    "    for j in range(image.shape[1]):\n",
    "        if i - 1 >= 0 and j - 1 >= 0 and i + 1 <= image.shape[0] - 1 and j + 1 <= image.shape[1] - 1:\n",
    "            temp = int(np.mean([image[i][j],\n",
    "                       image[i - 1][j - 1],\n",
    "                       image[i - 1][j],\n",
    "                       image[i - 1][j + 1],\n",
    "                       image[i][j - 1],\n",
    "                       image[i][j +  1],\n",
    "                       image[i + 1][j - 1],\n",
    "                       image[i + 1][j],\n",
    "                       image[i + 1][j + 1]]))\n",
    "            if image[i][j] <= temp:\n",
    "                globT[i][j] = 0\n",
    "            else:\n",
    "                globT[i][j] = 1\n",
    "        else:\n",
    "            if i == 0 and j == 0:\n",
    "                temp = int(np.mean([image[i][j],\n",
    "                               image[i][j + 1],\n",
    "                               image[i + 1][j],\n",
    "                               image[i + 1][j + 1]]))\n",
    "                if image[i][j] <= temp:\n",
    "                    globT[i][j] = 0\n",
    "                else:\n",
    "                    globT[i][j] = 1\n",
    "            elif i == 0 and j + 1 <= image.shape[1] - 1:\n",
    "                temp = int(np.mean([image[i][j],\n",
    "                       image[i][j - 1],\n",
    "                       image[i][j +  1],\n",
    "                       image[i + 1][j - 1],\n",
    "                       image[i + 1][j],\n",
    "                       image[i + 1][j + 1]]))\n",
    "                if image[i][j] <= temp:\n",
    "                    globT[i][j] = 0\n",
    "                else:\n",
    "                    globT[i][j] = 1\n",
    "            elif j == 0 and i + 1 <= image.shape[0] - 1:\n",
    "                temp = int(np.mean([image[i][j],\n",
    "                       image[i - 1][j],\n",
    "                       image[i - 1][j + 1],\n",
    "                       image[i][j +  1],\n",
    "                       image[i + 1][j],\n",
    "                       image[i + 1][j + 1]]))\n",
    "                if image[i][j] <= temp:\n",
    "                    globT[i][j] = 0\n",
    "                else:\n",
    "                    globT[i][j] = 1"
   ]
  },
  {
   "cell_type": "code",
   "execution_count": 14,
   "metadata": {},
   "outputs": [
    {
     "data": {
      "text/plain": [
       "<matplotlib.image.AxesImage at 0x7f5779343f98>"
      ]
     },
     "execution_count": 14,
     "metadata": {},
     "output_type": "execute_result"
    },
    {
     "data": {
      "image/png": "[encoded data removed]",
      "text/plain": [
       "<Figure size 432x288 with 1 Axes>"
      ]
     },
     "metadata": {},
     "output_type": "display_data"
    }
   ],
   "source": [
    "plt.imshow(globT)"
   ]
  },
  {
   "cell_type": "code",
   "execution_count": null,
   "metadata": {},
   "outputs": [],
   "source": []
  },
  {
   "cell_type": "code",
   "execution_count": null,
   "metadata": {},
   "outputs": [],
   "source": []
  }
 ],
 "metadata": {
  "kernelspec": {
   "display_name": "Python 3",
   "language": "python",
   "name": "python3"
  },
  "language_info": {
   "codemirror_mode": {
    "name": "ipython",
    "version": 3
   },
   "file_extension": ".py",
   "mimetype": "text/x-python",
   "name": "python",
   "nbconvert_exporter": "python",
   "pygments_lexer": "ipython3",
   "version": "3.6.6+"
  }
 },
 "nbformat": 4,
 "nbformat_minor": 2
}
